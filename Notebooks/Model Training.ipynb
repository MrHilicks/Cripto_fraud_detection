{
 "cells": [
  {
   "cell_type": "code",
   "execution_count": 1,
   "id": "ed43c158-82e5-49cc-a454-f7bab5e5a9e1",
   "metadata": {},
   "outputs": [],
   "source": [
    "import pandas as pd\n",
    "import numpy as np\n",
    "from sklearn.base import BaseEstimator, TransformerMixin\n",
    "from sklearn.preprocessing import QuantileTransformer\n",
    "import joblib\n",
    "\n",
    "class FeaturePreprocessor(BaseEstimator, TransformerMixin):\n",
    "    AVAILABLE_TS_FEATURES = {\n",
    "        'borrow_timestamp':{'day', 'dayofyear', 'week'},\n",
    "        'first_tx_timestamp':{'day','dayofweek','dayofyear','hour','hour_cos','hour_sin','minute','second','week'},\n",
    "        'last_tx_timestamp':{'week', 'dayofyear'},\n",
    "        'risky_first_tx_timestamp':{'day','dayofweek','dayofyear','hour','hour_cos','hour_sin','minute','second','week'},\n",
    "        'risky_last_tx_timestamp':{'dayofyear'},\n",
    "    }\n",
    "\n",
    "    def __init__(self,\n",
    "                 timestamp_columns=None,\n",
    "                 timestamp_features=None,\n",
    "                 numeric_columns=None,\n",
    "                 quantile_output_distribution='uniform',\n",
    "                 quantile_n_quantiles=1000,\n",
    "                 random_state=42):\n",
    "        self.timestamp_columns = timestamp_columns or ['borrow_timestamp',\n",
    "                                                       'first_tx_timestamp',\n",
    "                                                       'last_tx_timestamp',\n",
    "                                                       'risky_first_tx_timestamp',\n",
    "                                                       'risky_last_tx_timestamp'\n",
    "                                                      ]\n",
    "        self.timestamp_features = timestamp_features if timestamp_features else self.AVAILABLE_TS_FEATURES\n",
    "        self.numeric_columns = numeric_columns or ['repay_amount_sum_eth']\n",
    "        self.quantile_output_distribution = quantile_output_distribution\n",
    "        self.quantile_n_quantiles = quantile_n_quantiles\n",
    "        self.random_state = random_state\n",
    "\n",
    "        self.quantile_transformers = {}\n",
    "\n",
    "    def fit(self, X: pd.DataFrame, y=None):\n",
    "        X = X.copy()\n",
    "\n",
    "        # Определим числовые колонки, исключая timestamp\n",
    "        if self.numeric_columns is None:\n",
    "            self.numeric_columns_ = X.select_dtypes(include=[np.number]).columns.difference(self.timestamp_columns).tolist()\n",
    "        else:\n",
    "            self.numeric_columns_ = [col for col in self.numeric_columns if col not in self.timestamp_columns]\n",
    "\n",
    "        # Обучим QuantileTransformer по числовым колонкам\n",
    "        for col in self.numeric_columns_:\n",
    "            qt = QuantileTransformer(\n",
    "                output_distribution=self.quantile_output_distribution,\n",
    "                n_quantiles=min(self.quantile_n_quantiles, X.shape[0]),\n",
    "                random_state=self.random_state\n",
    "            )\n",
    "            qt.fit(X[[col]])\n",
    "            self.quantile_transformers[col] = qt\n",
    "\n",
    "        return self\n",
    "\n",
    "    def transform(self, X: pd.DataFrame) -> pd.DataFrame:\n",
    "        X = X.copy()\n",
    "        result = pd.DataFrame(index=X.index)\n",
    "\n",
    "        # Преобразуем числовые признаки\n",
    "        for col in self.numeric_columns_:\n",
    "            qt = self.quantile_transformers.get(col)\n",
    "            if qt:\n",
    "                result[f'{col}_qt'] = qt.transform(X[[col]]).flatten()\n",
    "\n",
    "        # Временные признаки\n",
    "        for col in self.timestamp_columns:\n",
    "            ts = pd.to_datetime(X[col], unit='s')\n",
    "            prefix = col\n",
    "            temp = {}\n",
    "\n",
    "            # Сначала извлечём все timestamp признаки\n",
    "            if 'day' in self.timestamp_features[col]:\n",
    "                temp[f'{prefix}_day'] = ts.dt.day\n",
    "            if 'dayofweek' in self.timestamp_features[col]:\n",
    "                temp[f'{prefix}_dayofweek'] = ts.dt.dayofweek\n",
    "            if 'dayofyear' in self.timestamp_features[col]:\n",
    "                temp[f'{prefix}_dayofyear'] = ts.dt.dayofyear\n",
    "            if 'week' in self.timestamp_features[col]:\n",
    "                temp[f'{prefix}_week'] = ts.dt.isocalendar().week\n",
    "            if 'hour' in self.timestamp_features[col]:\n",
    "                temp[f'{prefix}_hour'] = ts.dt.hour\n",
    "            if 'minute' in self.timestamp_features[col]:\n",
    "                temp[f'{prefix}_minute'] = ts.dt.minute\n",
    "            if 'second' in self.timestamp_features[col]:\n",
    "                temp[f'{prefix}_second'] = ts.dt.second\n",
    "            if 'hour_sin' in self.timestamp_features[col]:\n",
    "                temp[f'{prefix}_hour_sin'] = np.sin(2 * np.pi * ts.dt.hour / 24)\n",
    "            if 'hour_cos' in self.timestamp_features[col]:\n",
    "                temp[f'{prefix}_hour_cos'] = np.cos(2 * np.pi * ts.dt.hour / 24)\n",
    "            temp_df = pd.DataFrame(temp)\n",
    "            result = pd.concat([result, temp_df], axis=1)\n",
    "\n",
    "        return result\n",
    "\n",
    "    def save(self, path: str):\n",
    "        joblib.dump(self, path)\n",
    "\n",
    "    @staticmethod\n",
    "    def load(path: str):\n",
    "        return joblib.load(path)\n",
    "\n",
    "# timestamp_columns = ['borrow_timestamp',\n",
    "#                      'first_tx_timestamp',\n",
    "#                      'last_tx_timestamp',\n",
    "#                      'risky_first_tx_timestamp',\n",
    "#                      'risky_last_tx_timestamp'\n",
    "#                     ]\n",
    "# numeric_columns = ['repay_amount_sum_eth']\n",
    "feature_preproc = FeaturePreprocessor()"
   ]
  },
  {
   "cell_type": "code",
   "execution_count": null,
   "id": "487f6aa8-f8a0-4d49-8b66-dbd05f168d3e",
   "metadata": {},
   "outputs": [],
   "source": []
  },
  {
   "cell_type": "code",
   "execution_count": 2,
   "id": "c30316fb-fa58-491d-a780-664f037ff95b",
   "metadata": {},
   "outputs": [],
   "source": [
    "raw_data = pd.read_parquet(\"..\\\\Data\\\\raw\\\\dataset.parquet\")"
   ]
  },
  {
   "cell_type": "code",
   "execution_count": null,
   "id": "ab0b2870-5e34-4073-9082-e63829e78171",
   "metadata": {},
   "outputs": [],
   "source": []
  },
  {
   "cell_type": "code",
   "execution_count": 3,
   "id": "5126adce-2af3-43a5-a77a-0f317c68d5b4",
   "metadata": {},
   "outputs": [],
   "source": [
    "X = raw_data.drop(columns=['target'])\n",
    "y = raw_data['target']"
   ]
  },
  {
   "cell_type": "code",
   "execution_count": 4,
   "id": "4cbbd5b4-daa9-4b6c-90fa-7ae34119358c",
   "metadata": {},
   "outputs": [],
   "source": [
    "from sklearn.model_selection import train_test_split\n",
    "X_train, X_test, y_train, y_test = train_test_split(X, y, test_size=0.2, random_state=42, stratify=y)"
   ]
  },
  {
   "cell_type": "code",
   "execution_count": 5,
   "id": "13aa1296-dc3c-4e21-a34f-147f71bbda83",
   "metadata": {},
   "outputs": [
    {
     "data": {
      "text/html": [
       "<style>#sk-container-id-1 {color: black;background-color: white;}#sk-container-id-1 pre{padding: 0;}#sk-container-id-1 div.sk-toggleable {background-color: white;}#sk-container-id-1 label.sk-toggleable__label {cursor: pointer;display: block;width: 100%;margin-bottom: 0;padding: 0.3em;box-sizing: border-box;text-align: center;}#sk-container-id-1 label.sk-toggleable__label-arrow:before {content: \"▸\";float: left;margin-right: 0.25em;color: #696969;}#sk-container-id-1 label.sk-toggleable__label-arrow:hover:before {color: black;}#sk-container-id-1 div.sk-estimator:hover label.sk-toggleable__label-arrow:before {color: black;}#sk-container-id-1 div.sk-toggleable__content {max-height: 0;max-width: 0;overflow: hidden;text-align: left;background-color: #f0f8ff;}#sk-container-id-1 div.sk-toggleable__content pre {margin: 0.2em;color: black;border-radius: 0.25em;background-color: #f0f8ff;}#sk-container-id-1 input.sk-toggleable__control:checked~div.sk-toggleable__content {max-height: 200px;max-width: 100%;overflow: auto;}#sk-container-id-1 input.sk-toggleable__control:checked~label.sk-toggleable__label-arrow:before {content: \"▾\";}#sk-container-id-1 div.sk-estimator input.sk-toggleable__control:checked~label.sk-toggleable__label {background-color: #d4ebff;}#sk-container-id-1 div.sk-label input.sk-toggleable__control:checked~label.sk-toggleable__label {background-color: #d4ebff;}#sk-container-id-1 input.sk-hidden--visually {border: 0;clip: rect(1px 1px 1px 1px);clip: rect(1px, 1px, 1px, 1px);height: 1px;margin: -1px;overflow: hidden;padding: 0;position: absolute;width: 1px;}#sk-container-id-1 div.sk-estimator {font-family: monospace;background-color: #f0f8ff;border: 1px dotted black;border-radius: 0.25em;box-sizing: border-box;margin-bottom: 0.5em;}#sk-container-id-1 div.sk-estimator:hover {background-color: #d4ebff;}#sk-container-id-1 div.sk-parallel-item::after {content: \"\";width: 100%;border-bottom: 1px solid gray;flex-grow: 1;}#sk-container-id-1 div.sk-label:hover label.sk-toggleable__label {background-color: #d4ebff;}#sk-container-id-1 div.sk-serial::before {content: \"\";position: absolute;border-left: 1px solid gray;box-sizing: border-box;top: 0;bottom: 0;left: 50%;z-index: 0;}#sk-container-id-1 div.sk-serial {display: flex;flex-direction: column;align-items: center;background-color: white;padding-right: 0.2em;padding-left: 0.2em;position: relative;}#sk-container-id-1 div.sk-item {position: relative;z-index: 1;}#sk-container-id-1 div.sk-parallel {display: flex;align-items: stretch;justify-content: center;background-color: white;position: relative;}#sk-container-id-1 div.sk-item::before, #sk-container-id-1 div.sk-parallel-item::before {content: \"\";position: absolute;border-left: 1px solid gray;box-sizing: border-box;top: 0;bottom: 0;left: 50%;z-index: -1;}#sk-container-id-1 div.sk-parallel-item {display: flex;flex-direction: column;z-index: 1;position: relative;background-color: white;}#sk-container-id-1 div.sk-parallel-item:first-child::after {align-self: flex-end;width: 50%;}#sk-container-id-1 div.sk-parallel-item:last-child::after {align-self: flex-start;width: 50%;}#sk-container-id-1 div.sk-parallel-item:only-child::after {width: 0;}#sk-container-id-1 div.sk-dashed-wrapped {border: 1px dashed gray;margin: 0 0.4em 0.5em 0.4em;box-sizing: border-box;padding-bottom: 0.4em;background-color: white;}#sk-container-id-1 div.sk-label label {font-family: monospace;font-weight: bold;display: inline-block;line-height: 1.2em;}#sk-container-id-1 div.sk-label-container {text-align: center;}#sk-container-id-1 div.sk-container {/* jupyter's `normalize.less` sets `[hidden] { display: none; }` but bootstrap.min.css set `[hidden] { display: none !important; }` so we also need the `!important` here to be able to override the default hidden behavior on the sphinx rendered scikit-learn.org. See: https://github.com/scikit-learn/scikit-learn/issues/21755 */display: inline-block !important;position: relative;}#sk-container-id-1 div.sk-text-repr-fallback {display: none;}</style><div id=\"sk-container-id-1\" class=\"sk-top-container\"><div class=\"sk-text-repr-fallback\"><pre>FeaturePreprocessor(numeric_columns=[&#x27;repay_amount_sum_eth&#x27;],\n",
       "                    timestamp_columns=[&#x27;borrow_timestamp&#x27;, &#x27;first_tx_timestamp&#x27;,\n",
       "                                       &#x27;last_tx_timestamp&#x27;,\n",
       "                                       &#x27;risky_first_tx_timestamp&#x27;,\n",
       "                                       &#x27;risky_last_tx_timestamp&#x27;],\n",
       "                    timestamp_features={&#x27;borrow_timestamp&#x27;: {&#x27;day&#x27;, &#x27;dayofyear&#x27;,\n",
       "                                                             &#x27;week&#x27;},\n",
       "                                        &#x27;first_tx_timestamp&#x27;: {&#x27;day&#x27;,\n",
       "                                                               &#x27;dayofweek&#x27;,\n",
       "                                                               &#x27;dayofyear&#x27;,\n",
       "                                                               &#x27;hour&#x27;,\n",
       "                                                               &#x27;hour_cos&#x27;,\n",
       "                                                               &#x27;hour_sin&#x27;,\n",
       "                                                               &#x27;minute&#x27;,\n",
       "                                                               &#x27;second&#x27;,\n",
       "                                                               &#x27;week&#x27;},\n",
       "                                        &#x27;last_tx_timestamp&#x27;: {&#x27;dayofyear&#x27;,\n",
       "                                                              &#x27;week&#x27;},\n",
       "                                        &#x27;risky_first_tx_timestamp&#x27;: {&#x27;day&#x27;,\n",
       "                                                                     &#x27;dayofweek&#x27;,\n",
       "                                                                     &#x27;dayofyear&#x27;,\n",
       "                                                                     &#x27;hour&#x27;,\n",
       "                                                                     &#x27;hour_cos&#x27;,\n",
       "                                                                     &#x27;hour_sin&#x27;,\n",
       "                                                                     &#x27;minute&#x27;,\n",
       "                                                                     &#x27;second&#x27;,\n",
       "                                                                     &#x27;week&#x27;},\n",
       "                                        &#x27;risky_last_tx_timestamp&#x27;: {&#x27;dayofyear&#x27;}})</pre><b>In a Jupyter environment, please rerun this cell to show the HTML representation or trust the notebook. <br />On GitHub, the HTML representation is unable to render, please try loading this page with nbviewer.org.</b></div><div class=\"sk-container\" hidden><div class=\"sk-item\"><div class=\"sk-estimator sk-toggleable\"><input class=\"sk-toggleable__control sk-hidden--visually\" id=\"sk-estimator-id-1\" type=\"checkbox\" checked><label for=\"sk-estimator-id-1\" class=\"sk-toggleable__label sk-toggleable__label-arrow\">FeaturePreprocessor</label><div class=\"sk-toggleable__content\"><pre>FeaturePreprocessor(numeric_columns=[&#x27;repay_amount_sum_eth&#x27;],\n",
       "                    timestamp_columns=[&#x27;borrow_timestamp&#x27;, &#x27;first_tx_timestamp&#x27;,\n",
       "                                       &#x27;last_tx_timestamp&#x27;,\n",
       "                                       &#x27;risky_first_tx_timestamp&#x27;,\n",
       "                                       &#x27;risky_last_tx_timestamp&#x27;],\n",
       "                    timestamp_features={&#x27;borrow_timestamp&#x27;: {&#x27;day&#x27;, &#x27;dayofyear&#x27;,\n",
       "                                                             &#x27;week&#x27;},\n",
       "                                        &#x27;first_tx_timestamp&#x27;: {&#x27;day&#x27;,\n",
       "                                                               &#x27;dayofweek&#x27;,\n",
       "                                                               &#x27;dayofyear&#x27;,\n",
       "                                                               &#x27;hour&#x27;,\n",
       "                                                               &#x27;hour_cos&#x27;,\n",
       "                                                               &#x27;hour_sin&#x27;,\n",
       "                                                               &#x27;minute&#x27;,\n",
       "                                                               &#x27;second&#x27;,\n",
       "                                                               &#x27;week&#x27;},\n",
       "                                        &#x27;last_tx_timestamp&#x27;: {&#x27;dayofyear&#x27;,\n",
       "                                                              &#x27;week&#x27;},\n",
       "                                        &#x27;risky_first_tx_timestamp&#x27;: {&#x27;day&#x27;,\n",
       "                                                                     &#x27;dayofweek&#x27;,\n",
       "                                                                     &#x27;dayofyear&#x27;,\n",
       "                                                                     &#x27;hour&#x27;,\n",
       "                                                                     &#x27;hour_cos&#x27;,\n",
       "                                                                     &#x27;hour_sin&#x27;,\n",
       "                                                                     &#x27;minute&#x27;,\n",
       "                                                                     &#x27;second&#x27;,\n",
       "                                                                     &#x27;week&#x27;},\n",
       "                                        &#x27;risky_last_tx_timestamp&#x27;: {&#x27;dayofyear&#x27;}})</pre></div></div></div></div></div>"
      ],
      "text/plain": [
       "FeaturePreprocessor(numeric_columns=['repay_amount_sum_eth'],\n",
       "                    timestamp_columns=['borrow_timestamp', 'first_tx_timestamp',\n",
       "                                       'last_tx_timestamp',\n",
       "                                       'risky_first_tx_timestamp',\n",
       "                                       'risky_last_tx_timestamp'],\n",
       "                    timestamp_features={'borrow_timestamp': {'day', 'dayofyear',\n",
       "                                                             'week'},\n",
       "                                        'first_tx_timestamp': {'day',\n",
       "                                                               'dayofweek',\n",
       "                                                               'dayofyear',\n",
       "                                                               'hour',\n",
       "                                                               'hour_cos',\n",
       "                                                               'hour_sin',\n",
       "                                                               'minute',\n",
       "                                                               'second',\n",
       "                                                               'week'},\n",
       "                                        'last_tx_timestamp': {'dayofyear',\n",
       "                                                              'week'},\n",
       "                                        'risky_first_tx_timestamp': {'day',\n",
       "                                                                     'dayofweek',\n",
       "                                                                     'dayofyear',\n",
       "                                                                     'hour',\n",
       "                                                                     'hour_cos',\n",
       "                                                                     'hour_sin',\n",
       "                                                                     'minute',\n",
       "                                                                     'second',\n",
       "                                                                     'week'},\n",
       "                                        'risky_last_tx_timestamp': {'dayofyear'}})"
      ]
     },
     "execution_count": 5,
     "metadata": {},
     "output_type": "execute_result"
    }
   ],
   "source": [
    "feature_preproc.fit(X_train)"
   ]
  },
  {
   "cell_type": "code",
   "execution_count": 6,
   "id": "38ac1d84-15ef-4951-aa2d-fda9f5d2a1a6",
   "metadata": {},
   "outputs": [],
   "source": [
    "feature_preproc.save(\"../models/preprocessor.pkl\")"
   ]
  },
  {
   "cell_type": "markdown",
   "id": "84c5daa0-3297-4c74-a718-acd1454c70e8",
   "metadata": {},
   "source": [
    "Обновим для проверки"
   ]
  },
  {
   "cell_type": "code",
   "execution_count": 7,
   "id": "8aad414d-45c3-4268-8c66-281fe83db776",
   "metadata": {},
   "outputs": [],
   "source": [
    "del feature_preproc\n",
    "feature_preproc = FeaturePreprocessor.load(\"../models/preprocessor.pkl\")"
   ]
  },
  {
   "cell_type": "code",
   "execution_count": 8,
   "id": "1c73b493-9963-4c16-9d18-c0e4e4d3431f",
   "metadata": {},
   "outputs": [],
   "source": [
    "class DataPreprocessor():\n",
    "    COLUMNS = [\n",
    "        'repay_amount_sum_eth',\n",
    "        'risk_factor',\n",
    "        'max_risk_factor',\n",
    "        'avg_risk_factor',\n",
    "        'total_available_borrows_avg_eth',\n",
    "        'time_since_first_deposit',\n",
    "        'borrow_block_number',\n",
    "        'risk_factor_above_threshold_daily_count',\n",
    "        'market_atr',\n",
    "        'borrow_count',\n",
    "        'wallet_age',\n",
    "        'borrow_amount_avg_eth',\n",
    "        'repay_count',\n",
    "        'min_eth_ever',\n",
    "        'deposit_amount_sum_eth',\n",
    "        'total_available_borrows_eth',\n",
    "        'incoming_tx_avg_eth',\n",
    "        'avg_weighted_risk_factor',\n",
    "        'total_collateral_avg_eth',\n",
    "        'withdraw_amount_sum_eth',\n",
    "        'market_natr',\n",
    "        'market_adxr',\n",
    "        'risky_first_tx_timestamp',\n",
    "        'risky_tx_count',\n",
    "        'outgoing_tx_count',\n",
    "        'incoming_tx_count',\n",
    "        'risky_sum_outgoing_amount_eth',\n",
    "        'market_aroonosc',\n",
    "        'risky_unique_contract_count',\n",
    "        'market_macdsignal_macdfix',\n",
    "        'max_eth_ever',\n",
    "        'deposit_count',\n",
    "        'total_balance_eth',\n",
    "        'time_since_last_liquidated',\n",
    "        'market_plus_dm',\n",
    "        'repay_amount_avg_eth',\n",
    "        'first_tx_timestamp',\n",
    "        'total_collateral_eth',\n",
    "        'total_gas_paid_eth',\n",
    "        'risky_first_last_tx_timestamp_diff',\n",
    "        'borrow_repay_diff_eth',\n",
    "        'liquidation_amount_sum_eth',\n",
    "        'outgoing_tx_sum_eth',\n",
    "        'outgoing_tx_avg_eth',\n",
    "        'liquidation_count',\n",
    "        'incoming_tx_sum_eth',\n",
    "        'market_macd_macdfix',\n",
    "        'borrow_amount_sum_eth',\n",
    "        'market_apo',\n",
    "        'market_linearreg_slope',\n",
    "        'withdraw_deposit_diff_if_positive_eth',\n",
    "        'market_cmo',\n",
    "        'unique_lending_protocol_count',\n",
    "        'market_macdsignal_macdext',\n",
    "        'unique_borrow_protocol_count',\n",
    "        'market_adx',\n",
    "        'market_cci',\n",
    "        'market_fastk'\n",
    "    ]\n",
    "    def data_preprocessing(self, df : pd.DataFrame, feature_preprocessor : FeaturePreprocessor):\n",
    "        return pd.concat([df , feature_preprocessor.transform(df)], axis=1)[self.COLUMNS]\n",
    "data_preprocessor = DataPreprocessor()"
   ]
  },
  {
   "cell_type": "code",
   "execution_count": 9,
   "id": "03ab7ede-ee82-4df0-bd8a-aa412cc922d5",
   "metadata": {},
   "outputs": [],
   "source": [
    "X_train = data_preprocessor.data_preprocessing(X_train, feature_preproc)\n",
    "X_test = data_preprocessor.data_preprocessing(X_test, feature_preproc)"
   ]
  },
  {
   "cell_type": "code",
   "execution_count": null,
   "id": "7c2432ad-2c47-4c00-aadd-c76f4da15ba0",
   "metadata": {},
   "outputs": [],
   "source": []
  },
  {
   "cell_type": "code",
   "execution_count": 10,
   "id": "f0bc7cbf-2e89-4582-8d37-0c4ec4abb90c",
   "metadata": {},
   "outputs": [],
   "source": [
    "pd.concat([X_train , y_train], axis=1).to_csv('../Data/processed/train.csv', index=False)\n",
    "pd.concat([X_test , y_test], axis=1).to_csv('../Data/processed/test.csv', index=False)"
   ]
  },
  {
   "cell_type": "code",
   "execution_count": 11,
   "id": "5d1201de-1f54-4899-be5a-ce57332224a8",
   "metadata": {},
   "outputs": [],
   "source": [
    "from catboost import CatBoostClassifier, Pool"
   ]
  },
  {
   "cell_type": "code",
   "execution_count": 12,
   "id": "6a081cd0-0484-4436-b955-25b39e6e5e17",
   "metadata": {},
   "outputs": [
    {
     "name": "stdout",
     "output_type": "stream",
     "text": [
      "CPU times: total: 4min 26s\n",
      "Wall time: 2min 17s\n"
     ]
    },
    {
     "data": {
      "text/plain": [
       "<catboost.core.CatBoostClassifier at 0x1ae8acf29a0>"
      ]
     },
     "execution_count": 12,
     "metadata": {},
     "output_type": "execute_result"
    }
   ],
   "source": [
    "%%time\n",
    "\n",
    "cb_model = CatBoostClassifier(\n",
    "    iterations=1000,\n",
    "    eval_metric='F1',\n",
    "    loss_function='Logloss',\n",
    "    random_seed=42,\n",
    "    early_stopping_rounds=30,\n",
    "    verbose=False,\n",
    "    allow_writing_files=False,\n",
    "    task_type='GPU',\n",
    "    learning_rate=0.151,\n",
    "    depth=14,\n",
    "    l2_leaf_reg= 7.8457,\n",
    "    bagging_temperature=0.0443,\n",
    "    border_count=32,\n",
    "    random_strength=1.4266\n",
    ")\n",
    "\n",
    "cb_model.fit(Pool(X_train, y_train), eval_set=Pool(X_test, y_test), use_best_model=True, plot=False)"
   ]
  },
  {
   "cell_type": "code",
   "execution_count": 50,
   "id": "566ea636-9eb5-41e1-a362-d34885453cf6",
   "metadata": {},
   "outputs": [],
   "source": [
    "from sklearn.metrics import classification_report, roc_auc_score\n",
    "y_pred = cb_model.predict(Pool(X_test, y_test))\n",
    "y_proba = cb_model.predict_proba(Pool(X_test, y_test))[:, 1]"
   ]
  },
  {
   "cell_type": "code",
   "execution_count": 51,
   "id": "f7669cd6-786f-46d5-9798-258e3c955e4b",
   "metadata": {},
   "outputs": [
    {
     "data": {
      "text/plain": [
       "0.9612124794364876"
      ]
     },
     "execution_count": 51,
     "metadata": {},
     "output_type": "execute_result"
    }
   ],
   "source": [
    "roc_auc_score(y_test, y_proba)"
   ]
  },
  {
   "cell_type": "code",
   "execution_count": 52,
   "id": "3079ec5a-f6c2-43d9-aae5-b32ca19106c1",
   "metadata": {},
   "outputs": [
    {
     "name": "stdout",
     "output_type": "stream",
     "text": [
      "              precision    recall  f1-score   support\n",
      "\n",
      "           0       0.89      0.96      0.93     55353\n",
      "           1       0.92      0.81      0.86     33240\n",
      "\n",
      "    accuracy                           0.90     88593\n",
      "   macro avg       0.91      0.89      0.89     88593\n",
      "weighted avg       0.90      0.90      0.90     88593\n",
      "\n"
     ]
    }
   ],
   "source": [
    "print(classification_report(y_test, y_pred, output_dict=False))"
   ]
  },
  {
   "cell_type": "code",
   "execution_count": 53,
   "id": "ed839385-e5fb-4049-9675-87130963193e",
   "metadata": {},
   "outputs": [],
   "source": [
    "cb_model.save_model(\"../models/catboost_model.cbm\")"
   ]
  },
  {
   "cell_type": "code",
   "execution_count": null,
   "id": "d56c1c9a-3cf1-4da0-b863-31332699434a",
   "metadata": {},
   "outputs": [],
   "source": []
  }
 ],
 "metadata": {
  "kernelspec": {
   "display_name": "Python 3 (ipykernel)",
   "language": "python",
   "name": "python3"
  },
  "language_info": {
   "codemirror_mode": {
    "name": "ipython",
    "version": 3
   },
   "file_extension": ".py",
   "mimetype": "text/x-python",
   "name": "python",
   "nbconvert_exporter": "python",
   "pygments_lexer": "ipython3",
   "version": "3.9.23"
  }
 },
 "nbformat": 4,
 "nbformat_minor": 5
}
